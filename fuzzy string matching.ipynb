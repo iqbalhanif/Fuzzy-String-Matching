{
 "cells": [
  {
   "cell_type": "markdown",
   "metadata": {},
   "source": [
    "# Fuzzy String Matching"
   ]
  },
  {
   "cell_type": "markdown",
   "metadata": {},
   "source": [
    "### Import Module"
   ]
  },
  {
   "cell_type": "code",
   "execution_count": 1,
   "metadata": {},
   "outputs": [],
   "source": [
    "import requests\n",
    "import bs4\n",
    "import multiprocessing as mp\n",
    "import numpy as np\n",
    "import time\n",
    "from difflib import SequenceMatcher"
   ]
  },
  {
   "cell_type": "markdown",
   "metadata": {},
   "source": [
    "### Get Sample Data"
   ]
  },
  {
   "cell_type": "code",
   "execution_count": 2,
   "metadata": {},
   "outputs": [],
   "source": [
    "sec_list_html = requests.get('https://www.sec.gov/rules/other/4-460list.htm').content\n",
    "sec_list_soup = bs4.BeautifulSoup(sec_list_html, 'lxml')\n",
    "companies_list = sec_list_soup.find_all('tr')[1:-1]\n",
    "companies_list_clean = [str(x.text.strip()).lower() for x in companies_list]"
   ]
  },
  {
   "cell_type": "code",
   "execution_count": 3,
   "metadata": {},
   "outputs": [
    {
     "data": {
      "text/plain": [
       "['3com corp',\n",
       " '3m company',\n",
       " 'a.g. edwards inc.',\n",
       " 'abbott laboratories',\n",
       " 'abercrombie & fitch co.']"
      ]
     },
     "execution_count": 3,
     "metadata": {},
     "output_type": "execute_result"
    }
   ],
   "source": [
    "companies_list_clean[:5]"
   ]
  },
  {
   "cell_type": "code",
   "execution_count": 4,
   "metadata": {},
   "outputs": [
    {
     "data": {
      "text/plain": [
       "947"
      ]
     },
     "execution_count": 4,
     "metadata": {},
     "output_type": "execute_result"
    }
   ],
   "source": [
    "len(companies_list_clean)"
   ]
  },
  {
   "cell_type": "markdown",
   "metadata": {},
   "source": [
    "### Acak beberapa huruf untuk uji coba fuzzy string matching"
   ]
  },
  {
   "cell_type": "code",
   "execution_count": 5,
   "metadata": {},
   "outputs": [],
   "source": [
    "def switch_3_characters_randomly(name, seed = None):\n",
    "    if seed:\n",
    "        np.random.seed(seed)\n",
    "    name_split = list(name)\n",
    "    flip_indices = np.random.choice(len(name), 3, replace = False)\n",
    "    a, b, c = flip_indices[0], flip_indices[1], flip_indices[2]\n",
    "    name_split[a], name_split[b], name_split[c] = name_split[c], name_split[b], name_split[a]\n",
    "    return ''.join(name_split)"
   ]
  },
  {
   "cell_type": "code",
   "execution_count": 6,
   "metadata": {},
   "outputs": [
    {
     "data": {
      "text/plain": [
       "['3cmo corp',\n",
       " 'om c3mpany',\n",
       " 'a.g. edwardsni c.',\n",
       " 'abbott larobatories',\n",
       " 'abercrohbie & fitcm co.']"
      ]
     },
     "execution_count": 6,
     "metadata": {},
     "output_type": "execute_result"
    }
   ],
   "source": [
    "synthetic_companies_list = list(map(switch_3_characters_randomly, companies_list_clean))\n",
    "synthetic_companies_list[:5]"
   ]
  },
  {
   "cell_type": "code",
   "execution_count": 7,
   "metadata": {},
   "outputs": [
    {
     "data": {
      "text/plain": [
       "947"
      ]
     },
     "execution_count": 7,
     "metadata": {},
     "output_type": "execute_result"
    }
   ],
   "source": [
    "len(synthetic_companies_list)"
   ]
  },
  {
   "cell_type": "markdown",
   "metadata": {},
   "source": [
    "### Fungsi Fuzzy String Matching"
   ]
  },
  {
   "cell_type": "code",
   "execution_count": 8,
   "metadata": {},
   "outputs": [],
   "source": [
    "def match_ratio(name1, name2):\n",
    "    s = SequenceMatcher(None, name1, name2)\n",
    "    return s.ratio()"
   ]
  },
  {
   "cell_type": "code",
   "execution_count": 9,
   "metadata": {},
   "outputs": [],
   "source": [
    "def get_basic_fuzzy_matches(synthetic_name, threshold = 0.75):\n",
    "    match_list = []\n",
    "    flag = None\n",
    "    for name1 in companies_list_clean:\n",
    "        ratio = match_ratio(name1, synthetic_name)\n",
    "        if ratio > threshold:\n",
    "            if not flag:\n",
    "                flag = 1\n",
    "            match_list.append((synthetic_name, name1, ratio))\n",
    "            \n",
    "    if not flag:\n",
    "        match_list.append((synthetic_name, None, 0))\n",
    "            \n",
    "    return match_list"
   ]
  },
  {
   "cell_type": "code",
   "execution_count": null,
   "metadata": {},
   "outputs": [
    {
     "data": {
      "text/plain": [
       "[[('3cmo corp', '3com corp', 0.8888888888888888)],\n",
       " [('om c3mpany', '3m company', 0.8)],\n",
       " [('a.g. edwardsni c.', 'a.g. edwards inc.', 0.8823529411764706)],\n",
       " [('abbott larobatories', 'abbott laboratories', 0.8947368421052632)],\n",
       " [('abercrohbie & fitcm co.', 'abercrombie & fitch co.', 0.9130434782608695)]]"
      ]
     },
     "execution_count": 10,
     "metadata": {},
     "output_type": "execute_result"
    }
   ],
   "source": [
    "matches = list(map(get_basic_fuzzy_matches, synthetic_companies_list[:50]))\n",
    "matches[:5]"
   ]
  },
  {
   "cell_type": "markdown",
   "metadata": {},
   "source": [
    "### Membuat pooled matches (mencocokkan satu string dengan beberapa string yang mirip)"
   ]
  },
  {
   "cell_type": "code",
   "execution_count": null,
   "metadata": {},
   "outputs": [],
   "source": [
    "pool = mp.Pool()\n",
    "pooled_matches = list(pool.map(get_basic_fuzzy_matches, synthetic_companies_list[:50]))\n",
    "pool.close()\n",
    "pool.join()"
   ]
  },
  {
   "cell_type": "code",
   "execution_count": null,
   "metadata": {},
   "outputs": [],
   "source": [
    "pooled_matches[:20]"
   ]
  }
 ],
 "metadata": {
  "kernelspec": {
   "display_name": "Python 2",
   "language": "python",
   "name": "python2"
  },
  "language_info": {
   "codemirror_mode": {
    "name": "ipython",
    "version": 2
   },
   "file_extension": ".py",
   "mimetype": "text/x-python",
   "name": "python",
   "nbconvert_exporter": "python",
   "pygments_lexer": "ipython2",
   "version": "2.7.13"
  }
 },
 "nbformat": 4,
 "nbformat_minor": 2
}
